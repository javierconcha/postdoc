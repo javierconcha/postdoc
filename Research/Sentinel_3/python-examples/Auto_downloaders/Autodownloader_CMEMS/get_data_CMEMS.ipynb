{
 "cells": [
  {
   "cell_type": "markdown",
   "metadata": {},
   "source": [
    "# Automated CMEMS downloader for all operating systems"
   ]
  },
  {
   "cell_type": "markdown",
   "metadata": {},
   "source": [
    "This routine contains an examples of how to use python to set up an automated downloader of CMEMS data.\n",
    "\n",
    "    Version: 1.1\n",
    "    Author: B loveday, PML\n",
    "    Notes:\n",
    "    1. The python-motu client must be installed\n",
    "      "
   ]
  },
  {
   "cell_type": "code",
   "execution_count": 1,
   "metadata": {
    "collapsed": true
   },
   "outputs": [],
   "source": [
    "#!/usr/bin/env python\n",
    "\n",
    "#-imports-----------------------------------------------------------------------\n",
    "import os, sys, shutil\n",
    "import argparse\n",
    "import logging\n",
    "import datetime\n",
    "import subprocess"
   ]
  },
  {
   "cell_type": "code",
   "execution_count": 2,
   "metadata": {
    "collapsed": true
   },
   "outputs": [],
   "source": [
    "#-functions---------------------------------------------------------------------\n",
    "def download_data(Command, logging, verbose=False):\n",
    "    \n",
    "    processed_state = 'Downloaded ok'\n",
    "    logging.info('Launching download CMD:  '+Command)\n",
    "\n",
    "    try:\n",
    "        process = subprocess.Popen(CMD, stdout=subprocess.PIPE, stderr=subprocess.STDOUT, shell=True)\n",
    "        process.wait()\n",
    "\n",
    "        # Poll process for new output until finished\n",
    "        while True:\n",
    "            nextline = process.stdout.readline()\n",
    "            if nextline == '' and process.poll() is not None:\n",
    "                break\n",
    "            if nextline !='':\n",
    "                logging.info(nextline)\n",
    "            if 'Error' in nextline:\n",
    "                processed_state = nextline\n",
    "            sys.stdout.flush()\n",
    "\n",
    "        output   = process.communicate()[0]\n",
    "        exitCode = process.returncode\n",
    "\n",
    "        if (exitCode == 0):\n",
    "            logging.info('Downloading successful')    \n",
    "            processed_flag = True\n",
    "        else:\n",
    "            logging.error('Something went wrong in downloading: see above')\n",
    "            processed_flag = False   \n",
    "    except:\n",
    "        logging.info('Downloading unsuccessful')    \n",
    "        processed_flag = False\n",
    "        processed_state = 'Unknown Error'\n",
    "\n",
    "    return processed_flag, processed_state"
   ]
  },
  {
   "cell_type": "code",
   "execution_count": 3,
   "metadata": {
    "collapsed": true
   },
   "outputs": [],
   "source": [
    "#-default parameters------------------------------------------------------------\n",
    "DEFAULT_LOG_PATH    = os.getcwd()"
   ]
  },
  {
   "cell_type": "code",
   "execution_count": 4,
   "metadata": {
    "collapsed": true
   },
   "outputs": [],
   "source": [
    "#-args--------------------------------------------------------------------------\n",
    "#parser = argparse.ArgumentParser()\n",
    "#args = parser.parse_args()"
   ]
  },
  {
   "cell_type": "code",
   "execution_count": 5,
   "metadata": {},
   "outputs": [
    {
     "name": "stdout",
     "output_type": "stream",
     "text": [
      "logging to: /Users/benloveday/Documents/Code/Autodownloader_CMEMS/CMEMS_DOWNLOAD_20180204_1105.log\n",
      "---------------------\n",
      "Saving to: dataset-duacs-nrt-blacksea-merged-allsat-phy-l4-v3_2018-02-03.nc\n",
      "---------------------\n",
      "Saving to: dataset-duacs-nrt-blacksea-merged-allsat-phy-l4-v3_2018-02-04.nc\n"
     ]
    }
   ],
   "source": [
    "#-main--------------------------------------------------------------------------\n",
    "if __name__ == \"__main__\":\n",
    "    # preliminary stuff\n",
    "    logfile = os.path.join(DEFAULT_LOG_PATH,\"CMEMS_DOWNLOAD_\"+datetime.datetime.now().strftime('%Y%m%d_%H%M')+\".log\")\n",
    "    verbose=False\n",
    "    \n",
    "    # set file logger\n",
    "    try:\n",
    "        if os.path.exists(logfile):\n",
    "            os.remove(logfile)\n",
    "        print(\"logging to: \"+logfile)\n",
    "        logging.basicConfig(filename=logfile,level=logging.DEBUG)\n",
    "    except:\n",
    "        print(\"Failed to set logger\")\n",
    "    \n",
    "    # set our variables\n",
    "    motu_path  = os.getcwd()\n",
    "    username   = 'your username'\n",
    "    password   = 'your password'\n",
    "    outdir     = os.path.join(motu_path,'Data')\n",
    "    product_id = 'dataset-duacs-nrt-blacksea-merged-allsat-phy-l4-v3'\n",
    "    service_id = 'SEALEVEL_BS_PHY_L4_NRT_OBSERVATIONS_008_041-TDS'\n",
    "    date_min   = datetime.datetime(2018,2,3)\n",
    "    date_max   = datetime.datetime(2018,2,4)\n",
    "    lonmin     = 27.0625\n",
    "    lonmax     = 41.9375\n",
    "    latmin     = 40.0625\n",
    "    latmax     = 46.9375\n",
    "    variables  = ['sla','ugosa','vgosa']\n",
    "\n",
    "    # clear the output directory and make a new one\n",
    "    if os.path.exists(outdir):\n",
    "        shutil.rmtree(outdir)\n",
    "    os.mkdir(outdir)\n",
    "    \n",
    "    # set variables\n",
    "    v_string=' --variable '\n",
    "    all_variables = ' '\n",
    "    for vv in variables:\n",
    "        all_variables=v_string+\"'\"+vv+\"'\"+all_variables\n",
    "\n",
    "    # loop through dates\n",
    "    this_date = date_min\n",
    "    while this_date <= date_max:\n",
    "        date_format=this_date.strftime('%Y-%m-%d')\n",
    "        outname = product_id+'_'+date_format+'.nc'\n",
    "        print '---------------------'\n",
    "        print('Saving to: '+outname)\n",
    "        this_date = this_date + datetime.timedelta(days=1)\n",
    "        CMD=\"python \"+motu_path+\"/motu-client-python/motu-client.py --user '\"+username+\"' --pwd '\"+password+\"' --motu 'http://motu.sltac.cls.fr/motu-web/Motu' --service-id \"+service_id+\" --product-id '\"+product_id+\"' --longitude-min '\"+str(lonmin)+\" ' --longitude-max '\"+str(lonmax)+\"' --latitude-min '\"+str(latmin)+\"' --latitude-max '\"+str(latmax)+\"' --date-min '\"+date_format+\"' --date-max '\"+date_format+\"' \"+all_variables+\" --out-dir '\"+outdir+\"' --out-name '\"+outname+\"'\"\n",
    "        if verbose:\n",
    "            print CMD\n",
    "        flag, state = download_data(CMD,logging)    \n"
   ]
  },
  {
   "cell_type": "code",
   "execution_count": null,
   "metadata": {
    "collapsed": true
   },
   "outputs": [],
   "source": []
  }
 ],
 "metadata": {
  "kernelspec": {
   "display_name": "Python 2",
   "language": "python",
   "name": "python2"
  },
  "language_info": {
   "codemirror_mode": {
    "name": "ipython",
    "version": 2
   },
   "file_extension": ".py",
   "mimetype": "text/x-python",
   "name": "python",
   "nbconvert_exporter": "python",
   "pygments_lexer": "ipython2",
   "version": "2.7.14"
  }
 },
 "nbformat": 4,
 "nbformat_minor": 2
}
