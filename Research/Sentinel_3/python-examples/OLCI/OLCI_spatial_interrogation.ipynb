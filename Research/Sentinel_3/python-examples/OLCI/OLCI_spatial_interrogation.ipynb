{
 "cells": [
  {
   "cell_type": "markdown",
   "metadata": {},
   "source": [
    "# OLCI spatial plotting, quality control and data interrogation"
   ]
  },
  {
   "cell_type": "markdown",
   "metadata": {},
   "source": [
    "    Version: 2.0\n",
    "    Date: 03/09/2018\n",
    "    Author: Ben loveday, Plymouth Marine Laboratory\n",
    "\n",
    "This aim of this code is to introduce you to Python and to simply import a netCDF file in to your python workspace, conduct some basic operations, and plot an image. In this case, we will be using a level-2 OLCI image, but the script can be easily adapted to plot any netCDF variable.\n"
   ]
  },
  {
   "cell_type": "markdown",
   "metadata": {},
   "source": [
    "The first step in any python code is usually to import libraries that you will need. Libraries are usually code modules that perform specific tasks or provide specific capability (e.g. statistical analysis or plotting routines). In this case we will import the netCDF library, the numpy library which will help to conduct various operations on the data, and the matplotlib plotting library to generate some images. We will also import the os library, that allows python access to some command-line-eqsue capability like 'list directory', as well as the python library that governs the reporting of warning (so that we can turn them off here, and make the code run without being so 'noisy')."
   ]
  },
  {
   "cell_type": "code",
   "execution_count": 1,
   "metadata": {
    "collapsed": true
   },
   "outputs": [],
   "source": [
    "%matplotlib inline\n",
    "\n",
    "# libraries are imported here, and we can import any library with an alias that allows us easy access to them later.\n",
    "import netCDF4 as nc\n",
    "import numpy as np\n",
    "import matplotlib.pyplot as plt\n",
    "import os\n",
    "import warnings\n",
    "warnings.filterwarnings('ignore')"
   ]
  },
  {
   "cell_type": "markdown",
   "metadata": {},
   "source": [
    "Usually we also define functions at the top of a Python script. Functions are routines that can be called elsewhere in our script and perform a specific task. Typically we would use a function to take care of any process that we are going to perform more than once. The box below defines a function that will mask our data according to quality flags. We will call this function later on."
   ]
  },
  {
   "cell_type": "code",
   "execution_count": 2,
   "metadata": {
    "collapsed": true
   },
   "outputs": [],
   "source": [
    "def flag_data_fast(flags_we_want, flag_names, flag_values, flag_data, flag_type='WQSF'):\n",
    "    flag_bits = np.uint64()\n",
    "    if flag_type == 'SST':\n",
    "        flag_bits = np.uint8()\n",
    "    elif flag_type == 'WQSF_lsb':\n",
    "        flag_bits = np.uint32()\n",
    "    \n",
    "    for flag in flags_we_want:\n",
    "        try:\n",
    "            flag_bits = flag_bits | flag_values[flag_names.index(flag)]\n",
    "        except:\n",
    "            print(flag + \" not present\")\n",
    "    \n",
    "    return (flag_data & flag_bits) > 0"
   ]
  },
  {
   "cell_type": "markdown",
   "metadata": {},
   "source": [
    "Now we will start our script, proper.\n",
    "\n",
    "We being by seting paths to let python know where our data is stored, and what it is called. If you keep your scripts and files in the same folder, you will not need to set the full path to the data file. However you may want to store things in different places and so it is good practice to be specific. The first line in this box gets us the path where this file is."
   ]
  },
  {
   "cell_type": "code",
   "execution_count": 8,
   "metadata": {
    "collapsed": false
   },
   "outputs": [
    {
     "name": "stdout",
     "output_type": "stream",
     "text": [
      "/Users/jconchas/Documents/Research/Sentinel_3/Images\n"
     ]
    }
   ],
   "source": [
    "input_root    = '/Users/jconchas/Documents/Research/Sentinel_3/Images'\n",
    "print(input_root)\n",
    "input_path    = ''\n",
    "file_name_chl = 'chl_nn.nc'"
   ]
  },
  {
   "cell_type": "markdown",
   "metadata": {},
   "source": [
    "We read the file using functions from the netCDF4 (alias \"nc\") library. Note that to use a library in python you use the imported alias followed by a dot, and then the function you want (e.g. nc.Dataset)."
   ]
  },
  {
   "cell_type": "code",
   "execution_count": 9,
   "metadata": {
    "collapsed": false
   },
   "outputs": [],
   "source": [
    "OLCI_file     =  nc.Dataset(os.path.join(input_root,input_path,file_name_chl), 'r')"
   ]
  },
  {
   "cell_type": "markdown",
   "metadata": {},
   "source": [
    "To access a variable you can use the following command, where the name of the variable you are interested in, follows the hash. If you remove the hash in the following box, put the cursor after the dot and hit 'tab' you will be presented with a list of all of the variables and methods associated with the OLCI_file object. Python is an 'object orientatated' language, which means that all objects have relevant methods associated with them. \n",
    "\n",
    "note: If you want to run all this code in one go, remember to put the hash back at the start of this line beforehand."
   ]
  },
  {
   "cell_type": "code",
   "execution_count": null,
   "metadata": {
    "collapsed": true
   },
   "outputs": [],
   "source": [
    "#OLCI_file."
   ]
  },
  {
   "cell_type": "markdown",
   "metadata": {},
   "source": [
    "So, lets load in some data..."
   ]
  },
  {
   "cell_type": "code",
   "execution_count": null,
   "metadata": {
    "collapsed": true
   },
   "outputs": [],
   "source": [
    "CHL     = OLCI_file.variables['CHL_NN'][:].data\n",
    "fillval = OLCI_file.variables['CHL_NN']._FillValue\n",
    "\n",
    "# check where chl is equal to fill value and set it to 'no data', e.g. nan. \n",
    "# This is the simplest masking we can do to our data. More complex masking \n",
    "# is shown later on.\n",
    "CHL[CHL == fillval] = np.nan"
   ]
  },
  {
   "cell_type": "markdown",
   "metadata": {},
   "source": [
    "You can look at the variables in your workspace in interactive python \n",
    "environments (like this, or ipython) by typing 'whos'. This will tell you the name of the variable, it's type and then information on it, such as its size and shape. "
   ]
  },
  {
   "cell_type": "code",
   "execution_count": null,
   "metadata": {
    "collapsed": true
   },
   "outputs": [],
   "source": [
    "#whos"
   ]
  },
  {
   "cell_type": "markdown",
   "metadata": {},
   "source": [
    "Lets take a look at our data.."
   ]
  },
  {
   "cell_type": "code",
   "execution_count": null,
   "metadata": {
    "collapsed": true
   },
   "outputs": [],
   "source": [
    "plt.imshow(CHL);"
   ]
  },
  {
   "cell_type": "markdown",
   "metadata": {},
   "source": [
    "This is not the prettiest plot - Python can do much better. For a start, we may wish to look at a smaller area. We'll do this now, using the relevant indexes for area of data you wish to use. \n",
    "\n"
   ]
  },
  {
   "cell_type": "code",
   "execution_count": null,
   "metadata": {
    "collapsed": true
   },
   "outputs": [],
   "source": [
    "row1=4000\n",
    "row2=8000\n",
    "col1=0\n",
    "col2=3000\n",
    "CHL_subset = CHL[row1:row2, col1:col2]"
   ]
  },
  {
   "cell_type": "code",
   "execution_count": null,
   "metadata": {
    "collapsed": true,
    "scrolled": true
   },
   "outputs": [],
   "source": [
    "plt.imshow(CHL_subset);"
   ]
  },
  {
   "cell_type": "markdown",
   "metadata": {},
   "source": [
    "You will notice a few problems with displaying plots like this. Firstly - they don't look very pretty (the colour scheme is not ideal, it is hard to see the coastline, and you can't differentiate the land from cloud), and secondly - the axes don't provide any information on the location (other than within the array) and there is no colour bar. \n",
    "\n",
    "To make a better plot we will need to add a few more tools to the libraries/modules we've currently imported. Below are a few lines of code to import cartopy (which will help us make a better, map based plot) and a few other tools to tweak how the data is displayed. \n",
    "\n",
    "The Cartopy is module allows us to use map projections to display data in a geographically relevant way. For those that are familiar to python, Cartopy has largely replaced the Basemap library.\n"
   ]
  },
  {
   "cell_type": "code",
   "execution_count": null,
   "metadata": {
    "collapsed": true
   },
   "outputs": [],
   "source": [
    "import cartopy.crs as ccrs\n",
    "import cartopy.feature as cfeature"
   ]
  },
  {
   "cell_type": "markdown",
   "metadata": {},
   "source": [
    "We will also need to load other data to make the plot - the longitude and latitude data associated with each pixel of the chlorophyll data. This data can be found in the geo_coordinates.nc file, within each S3 OLCI L2 folder. We load this in a very similar way to how we loaded the chlorophyll data, just with different file and variable names. The data path remains the same, referring the folder that contains all the netcdf files.\n"
   ]
  },
  {
   "cell_type": "code",
   "execution_count": null,
   "metadata": {
    "collapsed": true
   },
   "outputs": [],
   "source": [
    "file_name_geo = 'geo_coordinates.nc'\n",
    "# NOTE THAT I HAVE DONE A 'TIE-POINT EXPANSION' HERE TO GET FULL LAT/LON VARIABLES. THIS CAN BE DONE IN SNAP.\n",
    "GEO_file      = nc.Dataset(os.path.join(input_root,input_path,file_name_geo), 'r')\n",
    "LAT           = GEO_file.variables['latitude'][:]\n",
    "LON           = GEO_file.variables['longitude'][:]\n",
    "LAT_subset    = LAT[row1:row2, col1:col2]\n",
    "LON_subset    = LON[row1:row2, col1:col2]\n",
    "GEO_file.close()"
   ]
  },
  {
   "cell_type": "markdown",
   "metadata": {},
   "source": [
    "Then we need to initialise the map we will use for plotting. The important things to choose here are:\n",
    "\n",
    "1. the projection you wish to use (this may depend on your region of interest, particularly if you are looking at polar data, more information about the different projects is available here: https://scitools.org.uk/cartopy/docs/v0.15/crs/projections.html)\n",
    "2. The limits of your map (by default, this will be set to your data limits)\n",
    "3. The resolution of the map coastline.\n",
    "\n",
    "See more information about the options for Cartopy here: https://scitools.org.uk/cartopy/docs/latest/\n",
    "\n",
    "(If you don't have basemap installed, you can type \"conda install -c scitools/label/archive cartopy\" in your command prompt, with the anaconda distribution).\n",
    "\n",
    "We start by defining a figure (line 1 below) and then defining a map projection (line 2). All mapping instructions are taken care of using our map object 'm'. Now we make the plot (this may take some time to draw!)"
   ]
  },
  {
   "cell_type": "code",
   "execution_count": null,
   "metadata": {
    "collapsed": true,
    "scrolled": false
   },
   "outputs": [],
   "source": [
    "fig1 = plt.figure(figsize=(20, 20), dpi=300)\n",
    "m = plt.axes(projection=ccrs.PlateCarree(central_longitude=0.0))\n",
    "f1 = plt.pcolormesh(LON, LAT, np.ma.masked_invalid(CHL), shading='flat', vmin=np.log10(0.01), vmax=np.log10(50), cmap=plt.cm.viridis)\n",
    "m.coastlines(resolution='50m', color='black', linewidth=1)\n",
    "m.add_feature(cfeature.LAND, facecolor='0.75')\n",
    "g1 = m.gridlines(draw_labels = True)\n",
    "g1.xlabels_top = False\n",
    "g1.xlabel_style = {'size': 16, 'color': 'gray'}\n",
    "g1.ylabel_style = {'size': 16, 'color': 'gray'}\n",
    "cbar = plt.colorbar(f1, orientation=\"horizontal\", fraction=0.05, pad=0.07, ticks=[np.log10(0.01), np.log10(0.1),np.log10(0.5), np.log10(1),np.log10(3),np.log10(10),np.log10(50)]) \n",
    "cbar.ax.set_xticklabels(['0.01','0.1','0.5','1','3','10','50'], fontsize=20) \n",
    "cbar.set_label('Chlorophyll, mg m$^{-3}$', fontsize=20)\n",
    "plt.title('OLCI [Chl a] mg m$^{-3}$', fontsize=20);\n",
    "plt.show()"
   ]
  },
  {
   "cell_type": "markdown",
   "metadata": {
    "collapsed": true
   },
   "source": [
    "You can also save the figure using the code below (this will save in the folder where you are running the code, if you want to save elsewhere you need to specify the path).\n"
   ]
  },
  {
   "cell_type": "code",
   "execution_count": null,
   "metadata": {
    "collapsed": true,
    "scrolled": false
   },
   "outputs": [],
   "source": [
    "fig2 = plt.figure(figsize=(20, 20), dpi=300)\n",
    "m = plt.axes(projection=ccrs.PlateCarree(central_longitude=0.0))\n",
    "f1 = plt.pcolormesh(LON_subset,LAT_subset,np.ma.masked_invalid(CHL_subset), shading='flat', vmin=np.log10(0.01), vmax=np.log10(50), cmap=plt.cm.viridis)  \n",
    "m.coastlines(resolution='50m', color='black', linewidth=1)\n",
    "m.add_feature(cfeature.LAND, facecolor='0.75')\n",
    "g1 = m.gridlines(draw_labels = True)\n",
    "g1.xlabels_top = False\n",
    "g1.xlabel_style = {'size': 16, 'color': 'gray'}\n",
    "g1.ylabel_style = {'size': 16, 'color': 'gray'}\n",
    "cbar = plt.colorbar(f1, orientation=\"horizontal\", fraction=0.05, pad=0.07, ticks=[np.log10(0.01), np.log10(0.1),np.log10(0.5), np.log10(1),np.log10(3),np.log10(10),np.log10(50)]) \n",
    "cbar.ax.set_xticklabels(['0.01','0.1','0.5','1','3','10','50'], fontsize=20) \n",
    "cbar.set_label('Chlorophyll, mg m$^{-3}$', fontsize=20)\n",
    "plt.title('OLCI [Chl a] mg m$^{-3}$', fontsize=20);\n",
    "plt.show()"
   ]
  },
  {
   "cell_type": "code",
   "execution_count": null,
   "metadata": {
    "collapsed": true
   },
   "outputs": [],
   "source": [
    "fig2.savefig('OLCI_CHL_spatial_demo_no_flags.png', bbox_inches='tight')"
   ]
  },
  {
   "cell_type": "markdown",
   "metadata": {},
   "source": [
    "However, this data is not flag masked. This means that we may have data that is subject to glint, or cloud, or a variety of other conditions that variously undermine quality. So, lets apply some flags. We are going to flag extensively, removing all data that corresponds to the following conditions..."
   ]
  },
  {
   "cell_type": "code",
   "execution_count": null,
   "metadata": {
    "collapsed": true
   },
   "outputs": [],
   "source": [
    "flags_we_want = ['CLOUD', 'CLOUD_AMBIGUOUS', 'CLOUD_MARGIN', 'INVALID', 'COSMETIC', 'SATURATED', 'SUSPECT',\n",
    "                 'HISOLZEN', 'HIGHGLINT', 'SNOW_ICE', 'AC_FAIL', 'WHITECAPS', 'ANNOT_ABSO_D', 'ANNOT_MIXR1',\n",
    "                 'ANNOT_DROUT', 'ANNOT_TAU06', 'RWNEG_O2', 'RWNEG_O3', 'RWNEG_O4', 'RWNEG_O5', 'RWNEG_O6',\n",
    "                 'RWNEG_O7', 'RWNEG_O8']\n",
    "\n",
    "file_name_flags = 'wqsf.nc'\n",
    "FLAG_file = nc.Dataset(os.path.join(input_root,input_path,file_name_flags), 'r')\n",
    "# get all the flag names\n",
    "flag_names = FLAG_file['WQSF'].flag_meanings.split(' ')\n",
    "# get all the flag bit values\n",
    "flag_vals = FLAG_file['WQSF'].flag_masks\n",
    "# get the flag field itself\n",
    "FLAGS = FLAG_file.variables['WQSF'][:]\n",
    "# make the flag mask using the function we defined above \"flag_data_fast\"\n",
    "flag_mask = flag_data_fast(flags_we_want, flag_names, flag_vals, FLAGS, flag_type='WQSF')\n",
    "flag_mask = flag_mask.astype(float)\n",
    "flag_mask[flag_mask == 0.0] = np.nan\n",
    "\n",
    "# subset the flag mask\n",
    "FLAG_subset = flag_mask[row1:row2, col1:col2]"
   ]
  },
  {
   "cell_type": "markdown",
   "metadata": {},
   "source": [
    "And now we apply the flag data to our data and plot again..."
   ]
  },
  {
   "cell_type": "code",
   "execution_count": null,
   "metadata": {
    "collapsed": true
   },
   "outputs": [],
   "source": [
    "CHL_subset[np.isfinite(FLAG_subset)] = np.nan\n",
    "\n",
    "fig3 = plt.figure(figsize=(20, 20), dpi=300)\n",
    "m = plt.axes(projection=ccrs.PlateCarree(central_longitude=0.0))\n",
    "f1 = plt.pcolormesh(LON_subset,LAT_subset,np.ma.masked_invalid(CHL_subset), shading='flat', vmin=np.log10(0.01), vmax=np.log10(50), cmap=plt.cm.viridis)  \n",
    "m.coastlines(resolution='50m', color='black', linewidth=1)\n",
    "m.add_feature(cfeature.LAND, facecolor='0.75')\n",
    "g1 = m.gridlines(draw_labels = True)\n",
    "g1.xlabels_top = False\n",
    "g1.xlabel_style = {'size': 16, 'color': 'gray'}\n",
    "g1.ylabel_style = {'size': 16, 'color': 'gray'}\n",
    "cbar = plt.colorbar(f1, orientation=\"horizontal\", fraction=0.05, pad=0.07, ticks=[np.log10(0.01), np.log10(0.1),np.log10(0.5), np.log10(1),np.log10(3),np.log10(10),np.log10(50)]) \n",
    "cbar.ax.set_xticklabels(['0.01','0.1','0.5','1','3','10','50'], fontsize=20) \n",
    "cbar.set_label('Chlorophyll, mg m$^{-3}$', fontsize=20)\n",
    "plt.title('OLCI [Chl a] mg m$^{-3}$', fontsize=20);\n",
    "plt.show()"
   ]
  },
  {
   "cell_type": "code",
   "execution_count": null,
   "metadata": {
    "collapsed": true
   },
   "outputs": [],
   "source": [
    "fig3.savefig('OLCI_CHL_spatial_demo_flags.png', bbox_inches='tight')"
   ]
  },
  {
   "cell_type": "markdown",
   "metadata": {},
   "source": [
    "The flags_we_want variable can be customised to any flag combination required, and, if you wish, the box above can be adapted to plog flags instead of the CHL field. You could also run the flags_we_want routine with each flag individially, to get a mask for every flag. That can then be used in more advanced plotting. But thats up to you..."
   ]
  }
 ],
 "metadata": {
  "anaconda-cloud": {},
  "kernelspec": {
   "display_name": "Python [default]",
   "language": "python",
   "name": "python3"
  },
  "language_info": {
   "codemirror_mode": {
    "name": "ipython",
    "version": 3
   },
   "file_extension": ".py",
   "mimetype": "text/x-python",
   "name": "python",
   "nbconvert_exporter": "python",
   "pygments_lexer": "ipython3",
   "version": "3.5.2"
  }
 },
 "nbformat": 4,
 "nbformat_minor": 2
}
